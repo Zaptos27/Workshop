{
 "cells": [
  {
   "cell_type": "markdown",
   "metadata": {},
   "source": [
    "# Opsætning\n",
    "Når du skal sætte ting op eller hente nye opgave så kør cellen under"
   ]
  },
  {
   "cell_type": "code",
   "execution_count": null,
   "metadata": {},
   "outputs": [],
   "source": [
    "from google.colab import drive\n",
    "drive.mount('/content/drive')\n",
    "repo = \"WorkshopPython\"\n",
    "user = \"Zaptos27\"\n",
    "\n",
    "!rm -rf $repo\n",
    "!git clone \"https://github.com/\"$user\"/\"$repo\".git\"\n",
    "\n",
    "!chmod +x $repo\"/bash_script/save_to_drive.sh\"\n",
    "!\"./\"$repo\"/bash_script/save_to_drive.sh\" $repo"
   ]
  }
 ],
 "metadata": {
  "language_info": {
   "name": "python"
  }
 },
 "nbformat": 4,
 "nbformat_minor": 2
}
