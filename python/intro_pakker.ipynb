{
 "cells": [
  {
   "cell_type": "markdown",
   "metadata": {},
   "source": [
    "# Workshop i Python d. 12-12-24\n",
    "### af Mikkel Mødekjær MIM@UNF.dk\n",
    "\n",
    "Martrialet her er lavet i forbindelse med UNF's workshop i python og fysik camp 2024. \n",
    "\n",
    "# Indroduktion til Pakker\n",
    "\n",
    "Her er en \"kort\" introduktion til de mest bruge pakker inden for scientific computing"
   ]
  },
  {
   "cell_type": "markdown",
   "metadata": {},
   "source": [
    "## Numpy\n",
    "\n",
    "Numpy er en super brugbar pakke til at lave numeriske ting I python, den måde du henter den er ved `import`"
   ]
  },
  {
   "cell_type": "code",
   "execution_count": null,
   "metadata": {},
   "outputs": [],
   "source": [
    "import numpy as np"
   ]
  },
  {
   "cell_type": "markdown",
   "metadata": {},
   "source": [
    "Her bruger vi as til at funktioner fra numpy kan skrive som `np.array` istedet fro "
   ]
  },
  {
   "cell_type": "markdown",
   "metadata": {},
   "source": [
    "En af de enssentialle ting I numpy er `array`, det minder lidt om en liste, men de har en fast længde og er hurtigere at lave operationer på.\n",
    "\n",
    "Du laver et array fra en liste ved at bruge en liste så f.eks."
   ]
  },
  {
   "cell_type": "code",
   "execution_count": null,
   "metadata": {},
   "outputs": [],
   "source": [
    "x = [1,2,3,4,5]\n",
    "x = np.array(x)\n",
    "x"
   ]
  },
  {
   "cell_type": "markdown",
   "metadata": {},
   "source": [
    "Så f.eks. hvis vi gerne vil have at alle tallene bliver ganget med 4 kan vi skrive"
   ]
  },
  {
   "cell_type": "code",
   "execution_count": null,
   "metadata": {},
   "outputs": [],
   "source": [
    "x*4"
   ]
  },
  {
   "cell_type": "markdown",
   "metadata": {},
   "source": [
    "De to store begrænsninger er at du kun kan have en type i et array og det er statisk, så længden kan ikke ændres"
   ]
  },
  {
   "cell_type": "markdown",
   "metadata": {},
   "source": [
    "Så hvis vi vil lave x længdere kan man bruge `np.append`, men det er meget langsomt fordi den laver et nyt array hver gang, her er der et eksemple på foreskellen i tid"
   ]
  },
  {
   "cell_type": "code",
   "execution_count": null,
   "metadata": {},
   "outputs": [],
   "source": [
    "x = np.array([])\n",
    "for i in range(100_000):\n",
    "    x = np.append(x, i)"
   ]
  },
  {
   "cell_type": "code",
   "execution_count": null,
   "metadata": {},
   "outputs": [],
   "source": [
    "arr = []\n",
    "for i in range(100_000):\n",
    "    arr.append(i)"
   ]
  },
  {
   "cell_type": "markdown",
   "metadata": {},
   "source": [
    "Derfor burde du enten bruge append på listen, eller skrive til `array` et direkte, som du kan se et eksemple på her"
   ]
  },
  {
   "cell_type": "code",
   "execution_count": null,
   "metadata": {},
   "outputs": [],
   "source": [
    "x = np.zeros(100_000)\n",
    "for i in range(100_000):\n",
    "    x[i] = i"
   ]
  },
  {
   "cell_type": "markdown",
   "metadata": {},
   "source": [
    "#### Opgaver\n",
    "\n",
    "Lav et array med alle tal mellem 5 og 800"
   ]
  },
  {
   "cell_type": "code",
   "execution_count": null,
   "metadata": {},
   "outputs": [],
   "source": []
  },
  {
   "cell_type": "markdown",
   "metadata": {},
   "source": [
    "Divider dit array med 5"
   ]
  },
  {
   "cell_type": "code",
   "execution_count": null,
   "metadata": {},
   "outputs": [],
   "source": []
  },
  {
   "cell_type": "markdown",
   "metadata": {},
   "source": [
    "Tag summen af tallene"
   ]
  },
  {
   "cell_type": "code",
   "execution_count": null,
   "metadata": {},
   "outputs": [],
   "source": []
  },
  {
   "cell_type": "markdown",
   "metadata": {},
   "source": [
    "Lav et nyt array, med 20 navne brug f.eks. arrangøre eller andre deltagere og prøv at sortere den "
   ]
  },
  {
   "cell_type": "code",
   "execution_count": null,
   "metadata": {},
   "outputs": [],
   "source": []
  },
  {
   "cell_type": "markdown",
   "metadata": {},
   "source": [
    "Lav et array med 2 dimensioner"
   ]
  },
  {
   "cell_type": "code",
   "execution_count": null,
   "metadata": {},
   "outputs": [],
   "source": []
  },
  {
   "cell_type": "markdown",
   "metadata": {},
   "source": [
    "Hent den første dimension og print den, derefter gør det sammen for den anden"
   ]
  },
  {
   "cell_type": "code",
   "execution_count": null,
   "metadata": {},
   "outputs": [],
   "source": []
  },
  {
   "cell_type": "markdown",
   "metadata": {},
   "source": [
    "### Array forsat\n",
    "\n",
    "Numpy har mange måder at lave et array, det kunne f.eks. være `np.array`, `np.arange`, `np.linspace`, `ǹp.ones` og `np.zeros`. Den måde `np.arange` virker på er at den laver et array fra start til slut hvor den stiger med increment vær gang"
   ]
  },
  {
   "cell_type": "code",
   "execution_count": null,
   "metadata": {},
   "outputs": [],
   "source": [
    "start = 0\n",
    "slut = 1000\n",
    "increment = 50\n",
    "\n",
    "np.arange(start, slut, increment)"
   ]
  },
  {
   "cell_type": "markdown",
   "metadata": {},
   "source": [
    "Så er det `np.linspace` gør er ligende `np.arange` den tager bare antal af punkter istedet for hvor meget den stiger så"
   ]
  },
  {
   "cell_type": "code",
   "execution_count": null,
   "metadata": {},
   "outputs": [],
   "source": [
    "antal = 10\n",
    "np.linspace(start, slut, antal)"
   ]
  },
  {
   "cell_type": "markdown",
   "metadata": {},
   "source": [
    "`np.ones` og `np.zeroes` lavet et array med henholdsvis et taller eller nuller i en given størrelse"
   ]
  },
  {
   "cell_type": "code",
   "execution_count": null,
   "metadata": {},
   "outputs": [],
   "source": [
    "np.ones(antal)"
   ]
  },
  {
   "cell_type": "markdown",
   "metadata": {},
   "source": [
    "#### Opgaver"
   ]
  },
  {
   "cell_type": "markdown",
   "metadata": {},
   "source": [
    "Lav et array med alle lige tal mellem 0 og 200"
   ]
  },
  {
   "cell_type": "code",
   "execution_count": null,
   "metadata": {},
   "outputs": [],
   "source": []
  },
  {
   "cell_type": "markdown",
   "metadata": {},
   "source": [
    "Lav et array som har 1000 tal mellem 0 og 1"
   ]
  },
  {
   "cell_type": "code",
   "execution_count": null,
   "metadata": {},
   "outputs": [],
   "source": []
  },
  {
   "cell_type": "markdown",
   "metadata": {},
   "source": [
    "Lav et array med 100, to-taller"
   ]
  },
  {
   "cell_type": "code",
   "execution_count": null,
   "metadata": {},
   "outputs": [],
   "source": []
  },
  {
   "cell_type": "markdown",
   "metadata": {},
   "source": [
    "Lav et array som går fra 1 ned til 0, hvor der er 100 tal"
   ]
  },
  {
   "cell_type": "code",
   "execution_count": null,
   "metadata": {},
   "outputs": [],
   "source": []
  },
  {
   "cell_type": "markdown",
   "metadata": {},
   "source": [
    "Lav et array der går fra 100 og falder med 1 til og med 0"
   ]
  },
  {
   "cell_type": "code",
   "execution_count": null,
   "metadata": {},
   "outputs": [],
   "source": []
  },
  {
   "cell_type": "markdown",
   "metadata": {},
   "source": [
    "### Matematik\n",
    "\n",
    "Så numpy har også rigtig mange, meget brugbare, matematiske funktioner, som f.eks `cosinus`, `sinus`, `tangens`, `kvardrødder` og `eksponential`. Du kan bruge alle numpy's funktioner på numpy's arrays uden problemer.\n",
    "\n",
    "Så de fleste funktioner er defineret ud fra de tre første, bogstaver som det er i de fleste matematik programmer, så f.eks. er cosinus `np.cos`, eller eksponential er `np.exp`. Det du skal være opmærksom på er at de trigometriske funktioner er defineret for radianer, som du kan konvertere til ved at bruge `np.radians`.\n",
    "\n",
    "For at skrive kvardrod burger vi, `np.sqrt`, eller for kubikrod er det `np.cbrt`\n",
    "\n",
    " `np.log` er den naturlige logiritme.\n",
    "\n",
    "Hvis du vil bruge andre typer af logirithme kan du bruge `np.log10` for ti tals logirithmen, mens en arbitær logirithme er lidt sværrer, der skal vi bruge lidt matematik, så vi ved at\n",
    "\n",
    "$a^{\\log_a(x)} = x$, også kan vi sige at $\\log(x)=\\log(a^{\\log_a(x)})= \\log_a(x)\\log(a)$ så kan vi isolere at $\\log_a(x) = \\frac{\\log(x)}{\\log(a)}$, derfor kan du regne for en vilkårlig logirithme."
   ]
  },
  {
   "cell_type": "code",
   "execution_count": null,
   "metadata": {},
   "outputs": [],
   "source": [
    "x = np.linspace(0, 4, 10)"
   ]
  },
  {
   "cell_type": "markdown",
   "metadata": {},
   "source": [
    "#### Opgaver\n",
    "Regn cosinus til `x`"
   ]
  },
  {
   "cell_type": "code",
   "execution_count": null,
   "metadata": {},
   "outputs": [],
   "source": []
  },
  {
   "cell_type": "markdown",
   "metadata": {},
   "source": [
    "Regn sinus af `x`"
   ]
  },
  {
   "cell_type": "code",
   "execution_count": null,
   "metadata": {},
   "outputs": [],
   "source": []
  },
  {
   "cell_type": "markdown",
   "metadata": {},
   "source": [
    "Regn Tangens af `x`"
   ]
  },
  {
   "cell_type": "code",
   "execution_count": null,
   "metadata": {},
   "outputs": [],
   "source": []
  },
  {
   "cell_type": "markdown",
   "metadata": {},
   "source": [
    "Regn $e^{-x}$"
   ]
  },
  {
   "cell_type": "code",
   "execution_count": null,
   "metadata": {},
   "outputs": [],
   "source": []
  },
  {
   "cell_type": "markdown",
   "metadata": {},
   "source": [
    "Regn $\\log_e$ for værdierne 1, 2, e, $\\frac{1}{e}$"
   ]
  },
  {
   "cell_type": "code",
   "execution_count": null,
   "metadata": {},
   "outputs": [],
   "source": []
  },
  {
   "cell_type": "markdown",
   "metadata": {},
   "source": [
    "Regn $\\log_{10}$ for værdierne 1, 2, e, 10"
   ]
  },
  {
   "cell_type": "code",
   "execution_count": null,
   "metadata": {},
   "outputs": [],
   "source": []
  },
  {
   "cell_type": "markdown",
   "metadata": {},
   "source": [
    "Regn $\\log_{2}$ for værdierne 1, 2, e, $\\frac{1}{2}$, $\\frac{2}{e}$"
   ]
  },
  {
   "cell_type": "code",
   "execution_count": null,
   "metadata": {},
   "outputs": [],
   "source": []
  },
  {
   "cell_type": "markdown",
   "metadata": {},
   "source": [
    "## Matplotlib"
   ]
  },
  {
   "cell_type": "code",
   "execution_count": null,
   "metadata": {},
   "outputs": [],
   "source": [
    "import matplotlib.pyplot as plt\n",
    "import numpy as np"
   ]
  },
  {
   "cell_type": "markdown",
   "metadata": {},
   "source": [
    "Matplot er rigtig godt til at vise data, den generalle måde at ved at bruge `plt.plot`"
   ]
  },
  {
   "cell_type": "code",
   "execution_count": null,
   "metadata": {},
   "outputs": [],
   "source": [
    "x = np.random.rand(10)\n",
    "y = 2*np.random.rand(10)\n",
    "plt.plot(x, y)"
   ]
  },
  {
   "cell_type": "markdown",
   "metadata": {},
   "source": [
    "Men så hvis vi gerne vil have punkter skriver vi `'o'` efter"
   ]
  },
  {
   "cell_type": "code",
   "execution_count": null,
   "metadata": {},
   "outputs": [],
   "source": [
    "plt.plot(x, y, 'o')"
   ]
  },
  {
   "cell_type": "markdown",
   "metadata": {},
   "source": [
    "Så hvis vi gerne vil have et grid, akse titler, eller legend skal du"
   ]
  },
  {
   "cell_type": "code",
   "execution_count": null,
   "metadata": {},
   "outputs": [],
   "source": [
    "plt.plot(x, y, 'o', label='Legend')\n",
    "plt.legend()\n",
    "plt.title('Test title')\n",
    "plt.xlabel('X aksen')\n",
    "plt.ylabel('Y aksen')\n",
    "plt.grid()"
   ]
  },
  {
   "cell_type": "markdown",
   "metadata": {},
   "source": [
    "Hvis du gerne vil bruge special tegn kan du få $\\LaTeX$, til at virke i navne ved at skrive r foran(Du kan godt lave en fr- eller rf-sting)."
   ]
  },
  {
   "cell_type": "code",
   "execution_count": null,
   "metadata": {},
   "outputs": [],
   "source": [
    "plt.plot(x, y, 'o', label='Legend')\n",
    "plt.legend()\n",
    "plt.title(fr'Data punkt 0 $\\chi$={x[0]:.3f}, $\\gamma$={y[0]:.3f}')\n",
    "plt.xlabel(r'$\\chi$ aksen')\n",
    "plt.ylabel(r'$\\gamma$ aksen')\n",
    "plt.grid()"
   ]
  },
  {
   "cell_type": "markdown",
   "metadata": {},
   "source": [
    "Så det du skal tage væk fra er at pæne grafer tager tid, og kan være langtrukkende."
   ]
  },
  {
   "cell_type": "markdown",
   "metadata": {},
   "source": [
    "#### Opgaver"
   ]
  },
  {
   "cell_type": "markdown",
   "metadata": {},
   "source": [
    "Lav et plot for to arrays, et fra 0 til 10 med 100 punkter og et fra 0 til 1 med 100 punkter"
   ]
  },
  {
   "cell_type": "code",
   "execution_count": null,
   "metadata": {},
   "outputs": [],
   "source": []
  },
  {
   "cell_type": "markdown",
   "metadata": {},
   "source": [
    "Lav akse titler på grafen"
   ]
  },
  {
   "cell_type": "code",
   "execution_count": null,
   "metadata": {},
   "outputs": [],
   "source": []
  },
  {
   "cell_type": "markdown",
   "metadata": {},
   "source": [
    "Lav legends på grafen"
   ]
  },
  {
   "cell_type": "code",
   "execution_count": null,
   "metadata": {},
   "outputs": [],
   "source": []
  },
  {
   "cell_type": "markdown",
   "metadata": {},
   "source": [
    "Lav endnu et set 'data' som har er x punkter mellem 0 og 10 med en stining på 0.0075 og en y akse mellem 0 og 1 med en stining på 0.0015, og plot det i samme graf som den anden. (Hint: prøv med plot to gang )"
   ]
  },
  {
   "cell_type": "code",
   "execution_count": null,
   "metadata": {},
   "outputs": [],
   "source": []
  },
  {
   "cell_type": "markdown",
   "metadata": {},
   "source": [
    "Prøv at sætte legends på, og bruge color til at ændre farven, husk det er engleske navne."
   ]
  },
  {
   "cell_type": "code",
   "execution_count": null,
   "metadata": {},
   "outputs": [],
   "source": []
  },
  {
   "cell_type": "markdown",
   "metadata": {},
   "source": [
    "Prøv at plotte sinus mellem 0 og 10"
   ]
  },
  {
   "cell_type": "code",
   "execution_count": null,
   "metadata": {},
   "outputs": [],
   "source": []
  },
  {
   "cell_type": "markdown",
   "metadata": {},
   "source": [
    "Prøv at plotte eksponentail funktionen mellem 0 og 1, med akse titler, legend og et grid"
   ]
  },
  {
   "cell_type": "code",
   "execution_count": null,
   "metadata": {},
   "outputs": [],
   "source": []
  },
  {
   "cell_type": "markdown",
   "metadata": {},
   "source": [
    "## Curve_fit\n"
   ]
  },
  {
   "cell_type": "code",
   "execution_count": null,
   "metadata": {},
   "outputs": [],
   "source": [
    "from scipy.optimize import curve_fit"
   ]
  },
  {
   "cell_type": "markdown",
   "metadata": {},
   "source": [
    "For at finde fit for en funktion i python bruger vi `curve_fit` fra scipy. Den måde det virker på er at vi definere en funktion som tager `x` som det første argument, og dine parameter som de andre"
   ]
  },
  {
   "cell_type": "code",
   "execution_count": null,
   "metadata": {},
   "outputs": [],
   "source": [
    "def linear(x, a, b):\n",
    "    return a*x + b\n",
    "\n",
    "x = np.random.rand(100)\n",
    "y = (np.random.rand(100)+1)*x +2"
   ]
  },
  {
   "cell_type": "markdown",
   "metadata": {},
   "source": [
    "Nu bruger vi `curve_fit`, så først skriver vi funktionen in også dataen, så skriver p0 for at give et start gæt"
   ]
  },
  {
   "cell_type": "code",
   "execution_count": null,
   "metadata": {},
   "outputs": [],
   "source": [
    "param, _ = curve_fit(linear, x, y, p0 = (2,2))"
   ]
  },
  {
   "cell_type": "markdown",
   "metadata": {},
   "source": [
    "Så for at vise det skriver vi `linear(x, *param)`, for at give dataen og parameterne, hvis vi gerne vil bruge en højere opløsning kan vi genere et array istedet for `x` med f.eks. `np.linspace`, også printer vi `param` for at se hvad parameterne er."
   ]
  },
  {
   "cell_type": "code",
   "execution_count": null,
   "metadata": {},
   "outputs": [],
   "source": [
    "plt.plot(x, y, 'o', label = 'punkter')\n",
    "plt.plot(x, linear(x, *param), label = 'linear')\n",
    "plt.legend()\n",
    "print(param)"
   ]
  },
  {
   "cell_type": "markdown",
   "metadata": {},
   "source": [
    "Hvis du gerne vil begrænse hvilket område den kigger på kan du bruge `bounds`, hvor du giver alle mindste i parateser og derefter alle øvre, så f.eks. hvis vi ville begrænse, så her er et ekspelm hvor `a` er mellem 0 og 1 og `b` er mellem 0 og 2, som ikke giver et godt fit men det kan hjælpe den med at finde det rigtige da det ikke altid er sikkert"
   ]
  },
  {
   "cell_type": "code",
   "execution_count": null,
   "metadata": {},
   "outputs": [],
   "source": [
    "param, _ = curve_fit(linear, x, y, p0 = (1,1), bounds=((0,0),(1,2)))\n",
    "plt.plot(x, y, 'o', label = 'punkter')\n",
    "plt.plot(x, linear(x, *param), label = 'linear')\n",
    "plt.legend()\n",
    "print(param)"
   ]
  },
  {
   "cell_type": "markdown",
   "metadata": {},
   "source": [
    "#### Opgaver"
   ]
  },
  {
   "cell_type": "code",
   "execution_count": null,
   "metadata": {},
   "outputs": [],
   "source": [
    "x = np.random.rand(1000)*10\n",
    "y = np.random.rand(1000) * 2 * x**2 + np.random.rand(1000)"
   ]
  },
  {
   "cell_type": "markdown",
   "metadata": {},
   "source": [
    "Prøv at fitte ligningen $ax+b$, til x, y"
   ]
  },
  {
   "cell_type": "code",
   "execution_count": null,
   "metadata": {},
   "outputs": [],
   "source": []
  },
  {
   "cell_type": "markdown",
   "metadata": {},
   "source": [
    "Prøv at fitte ligningen $ax^2+bx+c$, til x, y"
   ]
  },
  {
   "cell_type": "code",
   "execution_count": null,
   "metadata": {},
   "outputs": [],
   "source": []
  },
  {
   "cell_type": "markdown",
   "metadata": {},
   "source": [
    "Prøv at fitte ligningen til $ae^{-kx}+be^{kx}$"
   ]
  },
  {
   "cell_type": "code",
   "execution_count": null,
   "metadata": {},
   "outputs": [],
   "source": []
  },
  {
   "cell_type": "markdown",
   "metadata": {},
   "source": [
    "## Numpy lineær algebra\n",
    "\n",
    "Så inden i numpy kan du regne med lineær algebra, som er den generelle del at matematik som vektor regning er en del af.\n",
    "\n",
    "Så for at lave et prik produkt, skal du skrive `ǹp.dot`, den tager to arrays ind som er dine vectorer, og laver prik produktet.\n",
    "\n",
    "Hvis du til gengæld vil regne med kryds produkter skal du skrive `ǹp.cross`, den tager to vektorer i 3 dimensioner ind og giver kryds produktet.\n",
    "\n",
    "Her er et ekspemle på de to funktioner"
   ]
  },
  {
   "cell_type": "code",
   "execution_count": null,
   "metadata": {},
   "outputs": [],
   "source": [
    "import numpy as np"
   ]
  },
  {
   "cell_type": "code",
   "execution_count": null,
   "metadata": {},
   "outputs": [],
   "source": [
    "x = np.array([1, 1, 1])\n",
    "y = np.array([1, 2, 3])"
   ]
  },
  {
   "cell_type": "code",
   "execution_count": null,
   "metadata": {},
   "outputs": [],
   "source": [
    "np.dot(x,y)"
   ]
  },
  {
   "cell_type": "code",
   "execution_count": null,
   "metadata": {},
   "outputs": [],
   "source": [
    "np.cross(x,y)"
   ]
  },
  {
   "cell_type": "markdown",
   "metadata": {},
   "source": [
    "#### Opgaver\n",
    "\n",
    "Lav prik og kryds produktet for vektorne $(1, 2, 4)$ og $(2, 77, 6)$"
   ]
  },
  {
   "cell_type": "code",
   "execution_count": null,
   "metadata": {},
   "outputs": [],
   "source": []
  },
  {
   "cell_type": "markdown",
   "metadata": {},
   "source": [
    "Lav prik og kryds produktet for vektorne $(1213124, 21231, 43124124)$ og $(2436346, 346577, 67657)$"
   ]
  },
  {
   "cell_type": "code",
   "execution_count": null,
   "metadata": {},
   "outputs": [],
   "source": []
  },
  {
   "cell_type": "markdown",
   "metadata": {},
   "source": [
    "## Sympy\n",
    "\n",
    "Så I python er der en pakke som har de samme funktioner som jeres CAS værktøj, den hedder sympy, det kommer fra symbolsk python, så det er hvordan vi regner analytisk i python."
   ]
  },
  {
   "cell_type": "code",
   "execution_count": null,
   "metadata": {},
   "outputs": [],
   "source": [
    "import sympy as sp"
   ]
  },
  {
   "cell_type": "markdown",
   "metadata": {},
   "source": [
    "Så I sympy skal du bruge dine symboller. Det den største forskel er at du skal i python have alt defineret på forhånd, derfor skal du definere hvilke variabler du vil bruge. Det gør vi med `sp.symbols`"
   ]
  },
  {
   "cell_type": "code",
   "execution_count": null,
   "metadata": {},
   "outputs": [],
   "source": [
    "x, y = sp.symbols('x y')"
   ]
  },
  {
   "cell_type": "markdown",
   "metadata": {},
   "source": [
    "Så her bruger den mellemrum til at seperarer variablerne, men du også skrive andre bogstaver, du skal generalt bare bruge et backslash( \\ ), så f.eks. $\\alpha$ er \\alpha.\n",
    "\n",
    "Selfølgelig kan vi også lave matematik og skrive ligninger med de her symboler, men der er mange ting som du kan bruge som cosinus eller kvardrod, og de er defineret på samme måde som i numpy, hvor cosinus vil blive `sp.cos`, og kvardrod er `sp.sqrt`. Så hvad hvis vi nu gerne ville lave ligningen $\\sqrt{x}=y^2$, skal du skrive den om så den er ligmed 0, så det bliver $\\sqrt{x}-y^2=0$, da vi bare kan trække den ene side fra."
   ]
  },
  {
   "cell_type": "code",
   "execution_count": null,
   "metadata": {},
   "outputs": [],
   "source": [
    "ligning = sp.sqrt(x) - y**2"
   ]
  },
  {
   "cell_type": "markdown",
   "metadata": {},
   "source": [
    "Så derefter bruger vi `sp.solve`, som tager en ligning som er lig nul, og hvad du vil løse for, og giver en liste afløsninger ud, derfor tager vi indeks nul da vi kun er interseret i den første løsning"
   ]
  },
  {
   "cell_type": "code",
   "execution_count": null,
   "metadata": {},
   "outputs": [],
   "source": [
    "sp.solve(ligning, x)[0]"
   ]
  },
  {
   "cell_type": "markdown",
   "metadata": {},
   "source": [
    "Mens hvis vi f.eks. vi løse for $\\cos(x) = y$, så skriver vi det om så $\\cos(x)- y = 0$, så derfor"
   ]
  },
  {
   "cell_type": "code",
   "execution_count": null,
   "metadata": {},
   "outputs": [],
   "source": [
    "ligning = sp.cos(x) - y\n",
    "solution = sp.solve(ligning, x)\n",
    "solution"
   ]
  },
  {
   "cell_type": "markdown",
   "metadata": {},
   "source": [
    "Det giver to løsninger og vi vil gerne den anden løsning så"
   ]
  },
  {
   "cell_type": "code",
   "execution_count": null,
   "metadata": {},
   "outputs": [],
   "source": [
    "solution[1]"
   ]
  },
  {
   "cell_type": "markdown",
   "metadata": {},
   "source": [
    "Så hvis vi gerne vil sætte tal ind, skal du substituere, den med `subs`, som tager variblen du vil sætte ind på og værdien."
   ]
  },
  {
   "cell_type": "code",
   "execution_count": null,
   "metadata": {},
   "outputs": [],
   "source": [
    "solution[1].subs(y, 0)"
   ]
  },
  {
   "cell_type": "markdown",
   "metadata": {},
   "source": [
    "Mens hvis vi ville bruge $\\pi$ og få et tal ud, kan `evalf` være meget brugbar."
   ]
  },
  {
   "cell_type": "code",
   "execution_count": null,
   "metadata": {},
   "outputs": [],
   "source": [
    "solution[1].subs(y, sp.pi)"
   ]
  },
  {
   "cell_type": "code",
   "execution_count": null,
   "metadata": {},
   "outputs": [],
   "source": [
    "solution[1].subs(y, sp.pi).evalf()"
   ]
  },
  {
   "cell_type": "markdown",
   "metadata": {},
   "source": [
    "Det er så et komplekst tal, hvis i ikke kender dem.\n",
    "\n",
    "Hvis du bare vil simplifisere dit udtryk kan du bruge `sp.simplify`, som tager en ligning ind og simplifisere den."
   ]
  },
  {
   "cell_type": "code",
   "execution_count": null,
   "metadata": {},
   "outputs": [],
   "source": [
    "udtryk = sp.sin(x)**2 + sp.cos(x)**2 + x** 2 + x + 1\n",
    "udtryk"
   ]
  },
  {
   "cell_type": "code",
   "execution_count": null,
   "metadata": {},
   "outputs": [],
   "source": [
    "udtryk = sp.simplify(udtryk)\n",
    "udtryk"
   ]
  },
  {
   "cell_type": "markdown",
   "metadata": {},
   "source": [
    "I matematik har i lært at diffentiere og integrerer, det kan sympy selvfølgelig også, det virker gennem `sp.diff` eller `sp.integrate`, og de tager bare udtrykket, og variablen ind"
   ]
  },
  {
   "cell_type": "code",
   "execution_count": null,
   "metadata": {},
   "outputs": [],
   "source": [
    "sp.diff(udtryk, x)"
   ]
  },
  {
   "cell_type": "code",
   "execution_count": null,
   "metadata": {},
   "outputs": [],
   "source": [
    "sp.integrate(udtryk, x)"
   ]
  },
  {
   "cell_type": "markdown",
   "metadata": {},
   "source": [
    "Men det kan jo også være du vil have grænser for at lave et bestemt integral, det skal gives med variable som en tuple, det vil sige med parenteser, med (variable, start, slut), hvor `sp.oo` er uendelig \n",
    "\n",
    "så $\\int_0^{\\infty}x^2+x+2 dx$ kan vi skrive det som"
   ]
  },
  {
   "cell_type": "code",
   "execution_count": null,
   "metadata": {},
   "outputs": [],
   "source": [
    "sp.integrate(udtryk, (x, 0, sp.oo))"
   ]
  },
  {
   "cell_type": "markdown",
   "metadata": {},
   "source": [
    "Mens $\\int_0^{1}x^2+x+2 dx$ "
   ]
  },
  {
   "cell_type": "code",
   "execution_count": null,
   "metadata": {},
   "outputs": [],
   "source": [
    "sp.integrate(udtryk, (x, 0, 1))"
   ]
  },
  {
   "cell_type": "markdown",
   "metadata": {},
   "source": [
    "#### Opgaver\n",
    "\n",
    "Løs ligningen $x^5 + 27y^3 - 12 c = 4172y$ for $x$"
   ]
  },
  {
   "cell_type": "code",
   "execution_count": null,
   "metadata": {},
   "outputs": [],
   "source": []
  },
  {
   "cell_type": "markdown",
   "metadata": {},
   "source": [
    "Løs ligning $y^3+y^2+27y= 14$"
   ]
  },
  {
   "cell_type": "code",
   "execution_count": null,
   "metadata": {},
   "outputs": [],
   "source": []
  },
  {
   "cell_type": "markdown",
   "metadata": {},
   "source": [
    "Diffentier og interger $x^5 + 27y^3 - 12 c = 4172y$ ift. $x$"
   ]
  },
  {
   "cell_type": "code",
   "execution_count": null,
   "metadata": {},
   "outputs": [],
   "source": []
  },
  {
   "cell_type": "markdown",
   "metadata": {},
   "source": [
    "Lav integralet $\\int_{-\\infty}^\\infty e^{-x^2} dx$, med både numerisk og analytisk resultat"
   ]
  },
  {
   "cell_type": "code",
   "execution_count": null,
   "metadata": {},
   "outputs": [],
   "source": []
  },
  {
   "cell_type": "markdown",
   "metadata": {},
   "source": [
    "Lav integralet $\\int e^{-x^2} dx$"
   ]
  },
  {
   "cell_type": "code",
   "execution_count": null,
   "metadata": {},
   "outputs": [],
   "source": []
  },
  {
   "cell_type": "markdown",
   "metadata": {},
   "source": [
    "Indsæt tallet 27 i udtrykket fra opgaven før"
   ]
  },
  {
   "cell_type": "code",
   "execution_count": null,
   "metadata": {},
   "outputs": [],
   "source": []
  },
  {
   "cell_type": "markdown",
   "metadata": {},
   "source": [
    "Diffentiere og integraret $e^{-x^2} + e^{-x^5} + x^2\\cdot e^{-x} + x\\cdot e^{-2x^2}$"
   ]
  },
  {
   "cell_type": "code",
   "execution_count": null,
   "metadata": {},
   "outputs": [],
   "source": []
  }
 ],
 "metadata": {
  "kernelspec": {
   "display_name": "Python 3",
   "language": "python",
   "name": "python3"
  },
  "language_info": {
   "codemirror_mode": {
    "name": "ipython",
    "version": 3
   },
   "file_extension": ".py",
   "mimetype": "text/x-python",
   "name": "python",
   "nbconvert_exporter": "python",
   "pygments_lexer": "ipython3",
   "version": "3.11.8"
  }
 },
 "nbformat": 4,
 "nbformat_minor": 2
}
