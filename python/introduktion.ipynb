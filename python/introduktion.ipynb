{
 "cells": [
  {
   "cell_type": "markdown",
   "metadata": {},
   "source": [
    "# Workshop i Python d. 12-12-24\n",
    "### af Mikkel Mødekjær MIM@UNF.dk\n",
    "\n",
    "Martrialet her er lavet i forbindelse med UNF's workshop i python og fysik camp 2024. \n",
    "\n",
    "Versionen her er for folk der ikke har programmeret før eller føgler at de vil gå igennem de basale ting"
   ]
  },
  {
   "cell_type": "markdown",
   "metadata": {},
   "source": [
    "## Syntaks\n",
    "\n",
    "I programmering skal alt stå på en specifik måde. Forskellige ting betyder Forskelligt.\n",
    "\n",
    "Hvis vi skriver et ord som f.eks. `x` eller `hej_med_dig`, hvor der ikke er mellemrum kan  vi bruge det som variable som i kan se her"
   ]
  },
  {
   "cell_type": "code",
   "execution_count": null,
   "metadata": {},
   "outputs": [],
   "source": [
    "x = 50\n",
    "Hello = \"hej1\"\n",
    "hello = \"hej2\""
   ]
  },
  {
   "cell_type": "markdown",
   "metadata": {},
   "source": [
    "Det vil gøre at `x` er en variable, og vi har brugt = til at sætte `x` til 50, så hvis der står `x` vil den se det som 50. Det I skal være opmærksomme på er at variable navne er case sensitive, så `Hello` og `hello`, er ikke det samme."
   ]
  },
  {
   "cell_type": "markdown",
   "metadata": {},
   "source": [
    "## Skrive ting\n",
    "\n",
    "I Python er der flere måder at skrive ting ud. Den mest brugte er \n",
    "`print()` hvor ting som ikke er variabler skal stå mellem `\"\"` de to måder kan du se det her. "
   ]
  },
  {
   "cell_type": "code",
   "execution_count": null,
   "metadata": {},
   "outputs": [],
   "source": [
    "print(x)\n",
    "\n",
    "print(\"Hello World\")"
   ]
  },
  {
   "cell_type": "markdown",
   "metadata": {},
   "source": [
    "I ipython som det her er kan du bruge at den skrive ud hvad der står på sidste linje bliver skrevet ud. som Her"
   ]
  },
  {
   "cell_type": "code",
   "execution_count": null,
   "metadata": {},
   "outputs": [],
   "source": [
    "x"
   ]
  },
  {
   "cell_type": "markdown",
   "metadata": {},
   "source": [
    "#### Opgaver\n",
    "Prøv at printe dit navn, og variablerne `hello` og `Hello` på de to måder der er blevet introduceret til at printe"
   ]
  },
  {
   "cell_type": "code",
   "execution_count": null,
   "metadata": {},
   "outputs": [],
   "source": []
  },
  {
   "cell_type": "code",
   "execution_count": null,
   "metadata": {},
   "outputs": [],
   "source": []
  },
  {
   "cell_type": "code",
   "execution_count": null,
   "metadata": {},
   "outputs": [],
   "source": [
    "x=50"
   ]
  },
  {
   "cell_type": "markdown",
   "metadata": {},
   "source": [
    "Du kan også printe flere ting på engang ved at sætte et komma mellem. "
   ]
  },
  {
   "cell_type": "code",
   "execution_count": null,
   "metadata": {},
   "outputs": [],
   "source": [
    "print(\"Værdien af x er: \", x)"
   ]
  },
  {
   "cell_type": "markdown",
   "metadata": {},
   "source": [
    "Ellers kan du også bruge f-stings, som er hvor du tilføjer et f før din sting til at indsætte variabler der står i {}, som f.eks. {x}"
   ]
  },
  {
   "cell_type": "code",
   "execution_count": null,
   "metadata": {},
   "outputs": [],
   "source": [
    "print(f\"Værdien af x er: {x:.2f}\")"
   ]
  },
  {
   "cell_type": "markdown",
   "metadata": {},
   "source": [
    "Hvor i f-string kan du skriv :.Nf efter og det vil give dig N decimaler, så f.eks {x:.2f} giver 2 decimaler"
   ]
  },
  {
   "cell_type": "markdown",
   "metadata": {},
   "source": [
    "Her skal du prøve at printe `mit navn er:` også hvad dit navn er, og derefter skrive din alder efterfuldt af `år, det er hvor gammel jeg er`"
   ]
  },
  {
   "cell_type": "code",
   "execution_count": null,
   "metadata": {},
   "outputs": [],
   "source": []
  },
  {
   "cell_type": "markdown",
   "metadata": {},
   "source": [
    "## Matematik\n",
    "\n",
    "Så en af de vigtiste ting er at du kan lave matematik med programmering.\n",
    "\n",
    "For at lave normale operationer `+` `-` `*` og `/`.\n",
    "\n",
    "Så f.eks hvis jeg ville skrive $\\frac{2\\cdot5}{26-4}$, ville det være"
   ]
  },
  {
   "cell_type": "code",
   "execution_count": null,
   "metadata": {},
   "outputs": [],
   "source": [
    "2*5/(26-4)"
   ]
  },
  {
   "cell_type": "markdown",
   "metadata": {},
   "source": [
    "Ud over de normale kan du bruge `**` til at opløft så `x**2` ville være $x^2$.\n",
    "\n",
    "Også er der en special som er modulo, som er resten så f.eks $\\frac{5}{2} = 2.5 $ mens `5%2=1` fordi resten i heltals division er 1."
   ]
  },
  {
   "cell_type": "markdown",
   "metadata": {},
   "source": [
    "Du bruge en variable og sætte den i samme linje f.eks. hvis vi gerne vil ligge 5 til x"
   ]
  },
  {
   "cell_type": "code",
   "execution_count": null,
   "metadata": {},
   "outputs": [],
   "source": [
    "x = x + 5\n",
    "print(x)"
   ]
  },
  {
   "cell_type": "markdown",
   "metadata": {},
   "source": [
    "#### Opgaver\n",
    "$50+2$"
   ]
  },
  {
   "cell_type": "code",
   "execution_count": null,
   "metadata": {},
   "outputs": [],
   "source": []
  },
  {
   "cell_type": "markdown",
   "metadata": {},
   "source": [
    "$5/2$"
   ]
  },
  {
   "cell_type": "code",
   "execution_count": null,
   "metadata": {},
   "outputs": [],
   "source": []
  },
  {
   "cell_type": "markdown",
   "metadata": {},
   "source": [
    "$10\\%3$"
   ]
  },
  {
   "cell_type": "code",
   "execution_count": null,
   "metadata": {},
   "outputs": [],
   "source": []
  },
  {
   "cell_type": "markdown",
   "metadata": {},
   "source": [
    "$4\\cdot 2-1$"
   ]
  },
  {
   "cell_type": "code",
   "execution_count": null,
   "metadata": {},
   "outputs": [],
   "source": []
  },
  {
   "cell_type": "markdown",
   "metadata": {},
   "source": [
    "$666/42 \\cdot \\frac{27}{5+2\\cdot 8}$"
   ]
  },
  {
   "cell_type": "code",
   "execution_count": null,
   "metadata": {},
   "outputs": [],
   "source": []
  },
  {
   "cell_type": "markdown",
   "metadata": {},
   "source": [
    "$5^2$"
   ]
  },
  {
   "cell_type": "code",
   "execution_count": null,
   "metadata": {},
   "outputs": [],
   "source": []
  },
  {
   "cell_type": "markdown",
   "metadata": {},
   "source": [
    "$25^{1/3}*\\sqrt{25}$ (Hint: $\\sqrt{x}$ er $x^{1/2}$)"
   ]
  },
  {
   "cell_type": "code",
   "execution_count": null,
   "metadata": {},
   "outputs": [],
   "source": []
  },
  {
   "cell_type": "markdown",
   "metadata": {},
   "source": [
    "Lav en variable y = 0, og læg 3 til den 4 gange, og print alle værdier den tager"
   ]
  },
  {
   "cell_type": "code",
   "execution_count": null,
   "metadata": {},
   "outputs": [],
   "source": []
  },
  {
   "cell_type": "markdown",
   "metadata": {},
   "source": [
    "Lav en varible z=100 og tag $\\sqrt{z}$, 3 gange og print alle værdier den tager"
   ]
  },
  {
   "cell_type": "code",
   "execution_count": null,
   "metadata": {},
   "outputs": [],
   "source": []
  },
  {
   "cell_type": "markdown",
   "metadata": {},
   "source": [
    "## Hvis\n",
    "\n",
    "Så en anden meget vigtig ting i programmering er hvis eller `if`-statments. Så det er hvordan man for computeren til at tage \"beslutininger\".\n",
    "\n",
    "Så i python bruger du `==`, `>`, `<`, `>=`, `<=` og `!=` til at sammenlige. `==` er om ting er ens, `>`, `<` skrapt større og mindre end, `>=`, `<=` blødt større eller mindre end, og `!=` er ikke lig med.\n",
    "\n",
    "Så den måde du skriver det på er `if` også hvad den skal tage beslutningen på. Du SKAL være opmærk som på at ALT de er indrykket med 4 spaces i linjerne under et `:` er forbundet med det, som `if` eller `for` senere. Her hvor vi gør det hvis `x` er 50."
   ]
  },
  {
   "cell_type": "code",
   "execution_count": null,
   "metadata": {},
   "outputs": [],
   "source": [
    "if x == 50:\n",
    "    print(\"x er 50\")"
   ]
  },
  {
   "cell_type": "markdown",
   "metadata": {},
   "source": [
    "Mens hvis du skal se om noget er sandt, skal du bruge `true` and `false`. Så hvis vi ser om `x` er større end 50. "
   ]
  },
  {
   "cell_type": "code",
   "execution_count": null,
   "metadata": {},
   "outputs": [],
   "source": [
    "if x > 50:\n",
    "    print(\"x er større end 50\")\n",
    "elif x < 50:\n",
    "    print(\"x er mindre end 50\")\n",
    "else:\n",
    "    print(\"x er 50\")"
   ]
  },
  {
   "cell_type": "markdown",
   "metadata": {},
   "source": [
    "Så koden her ser er `x>50` sandt, hvis det ikke er så tjekker vi `x<50` og hvis det heller ikke er skriver vi at `x` er 50."
   ]
  },
  {
   "cell_type": "markdown",
   "metadata": {},
   "source": [
    "Prøv at lave en variable som hedder regner(som enten kan være `True` eller `False`) og hvis regner er sandt print \"Tag regnjakke på\", hvis falsk \"Det er godt vejr\"."
   ]
  },
  {
   "cell_type": "code",
   "execution_count": null,
   "metadata": {},
   "outputs": [],
   "source": []
  },
  {
   "cell_type": "markdown",
   "metadata": {},
   "source": [
    "Check hvis et tal er større eller mindre end 127, og skriv f.eks. \"Tallet `tal` er større end 127\""
   ]
  },
  {
   "cell_type": "code",
   "execution_count": null,
   "metadata": {},
   "outputs": [],
   "source": []
  },
  {
   "cell_type": "markdown",
   "metadata": {},
   "source": [
    "Se hvis to stykker af tekst er ens og skriv om de er"
   ]
  },
  {
   "cell_type": "code",
   "execution_count": null,
   "metadata": {},
   "outputs": [],
   "source": []
  },
  {
   "cell_type": "markdown",
   "metadata": {},
   "source": [
    "Se om et tal er ulige"
   ]
  },
  {
   "cell_type": "code",
   "execution_count": null,
   "metadata": {},
   "outputs": [],
   "source": []
  },
  {
   "cell_type": "markdown",
   "metadata": {},
   "source": [
    "Se om et bogstaverne a, b og c er i ordet abrakadabra (hint brug `in`) "
   ]
  },
  {
   "cell_type": "code",
   "execution_count": null,
   "metadata": {},
   "outputs": [],
   "source": []
  },
  {
   "cell_type": "markdown",
   "metadata": {},
   "source": [
    "## Løkker\n",
    "\n",
    "For at skulle skrive mindre kode har nogle lavet løkker, som kan køre det samme stykke kode mange gang.\n",
    "\n",
    "Jeg anbefaler at bruge `for` løkker, som køre for hvert element i noget.\n",
    "\n",
    "Så den måde du ofte ville køre det er med `range` funktionen eller en liste.\n",
    "\n",
    "Lister er en variable type hvor du kan give flere ting, som hvis vi gerne vil have en liste med tal"
   ]
  },
  {
   "cell_type": "code",
   "execution_count": null,
   "metadata": {},
   "outputs": [],
   "source": [
    "arr = [1,1,2,3,5,8]"
   ]
  },
  {
   "cell_type": "markdown",
   "metadata": {},
   "source": [
    "Så nu er `arr` de første par fibbonacci tal. Så hvis du gerne vil skrive den ud kunne vi bruge en liste til det"
   ]
  },
  {
   "cell_type": "code",
   "execution_count": null,
   "metadata": {},
   "outputs": [],
   "source": [
    "for f in arr:\n",
    "    print(f)"
   ]
  },
  {
   "cell_type": "markdown",
   "metadata": {},
   "source": [
    "Mens hvis vi ville beregne dem kan vi bruge `range` som generere næste tal optil en under det du skriver fra 0"
   ]
  },
  {
   "cell_type": "code",
   "execution_count": null,
   "metadata": {},
   "outputs": [],
   "source": [
    "for i in range(10):\n",
    "    print(i)"
   ]
  },
  {
   "cell_type": "markdown",
   "metadata": {},
   "source": [
    "Her bruger vi at en liste kan du få den `n` plads ud ved `listens_navn[n]`, så hvis `n` er 2 vil du få den trejde plads da den første plads er plads 0. Derefter bruger vi `append` til at ligge det i slutningen af listen"
   ]
  },
  {
   "cell_type": "markdown",
   "metadata": {},
   "source": [
    "#### Opgaver\n",
    "Brug en løkke til at printe alle tal op til 10 "
   ]
  },
  {
   "cell_type": "code",
   "execution_count": null,
   "metadata": {},
   "outputs": [],
   "source": []
  },
  {
   "cell_type": "markdown",
   "metadata": {},
   "source": [
    "Brug en løkke til at regne alle kvadrattal($x^2$) fra 0 til 10"
   ]
  },
  {
   "cell_type": "code",
   "execution_count": null,
   "metadata": {},
   "outputs": [],
   "source": []
  },
  {
   "cell_type": "markdown",
   "metadata": {},
   "source": [
    "Brug en løkke til at skrive alle lige tal og derefter alle ulige tal mellem 1 og 25"
   ]
  },
  {
   "cell_type": "code",
   "execution_count": null,
   "metadata": {},
   "outputs": [],
   "source": []
  },
  {
   "cell_type": "markdown",
   "metadata": {},
   "source": [
    "Brug en løkke til at beregne summen for alle tal mellem 1 og 10.000"
   ]
  },
  {
   "cell_type": "code",
   "execution_count": null,
   "metadata": {},
   "outputs": [],
   "source": []
  },
  {
   "cell_type": "markdown",
   "metadata": {},
   "source": [
    "Brug en løkke til at regne fakulteten af 200"
   ]
  },
  {
   "cell_type": "code",
   "execution_count": null,
   "metadata": {},
   "outputs": [],
   "source": []
  },
  {
   "cell_type": "markdown",
   "metadata": {},
   "source": [
    "Brug løkker til at tjekke om et tallene 11, 27, 42 og 71 er primtal (hint `break` går ud af en løkke)"
   ]
  },
  {
   "cell_type": "code",
   "execution_count": null,
   "metadata": {},
   "outputs": [],
   "source": []
  },
  {
   "cell_type": "code",
   "execution_count": null,
   "metadata": {},
   "outputs": [],
   "source": [
    "liste1 = [1,2,3,4,5,6,7,8,9,10,9,8,7,6,5,4,3,2,1]\n",
    "liste2 = [1234,12,31,24,2,214,1,23,2424]"
   ]
  },
  {
   "cell_type": "markdown",
   "metadata": {},
   "source": [
    "Print det første elemtent i listen `liste1`\n"
   ]
  },
  {
   "cell_type": "code",
   "execution_count": null,
   "metadata": {},
   "outputs": [],
   "source": []
  },
  {
   "cell_type": "markdown",
   "metadata": {},
   "source": [
    "Print det sidste elemtent i listen `liste1`(hint prøv negative indekser)"
   ]
  },
  {
   "cell_type": "code",
   "execution_count": null,
   "metadata": {},
   "outputs": [],
   "source": []
  },
  {
   "cell_type": "markdown",
   "metadata": {},
   "source": [
    "Print alle elementer som er mindre end det før"
   ]
  },
  {
   "cell_type": "code",
   "execution_count": null,
   "metadata": {},
   "outputs": [],
   "source": []
  },
  {
   "cell_type": "markdown",
   "metadata": {},
   "source": [
    "Lav en liste som er `liste2` baglens prøv med en løkke og `[::-1]`(Hint til løkke prøv `reversed(liste1)`)"
   ]
  },
  {
   "cell_type": "code",
   "execution_count": null,
   "metadata": {},
   "outputs": [],
   "source": []
  },
  {
   "cell_type": "markdown",
   "metadata": {},
   "source": [
    "## Funktioner\n",
    "\n",
    "\n",
    "Funktioner er en let måde at lave kode som kan køres flere gange så f.eks. hvis vi gerne vil bruge den strørre af $x^2$ og $y^2$ kan man skrive det med funktioner som her"
   ]
  },
  {
   "cell_type": "code",
   "execution_count": null,
   "metadata": {},
   "outputs": [],
   "source": [
    "def square(x, y):\n",
    "    if x**2 > y**2:\n",
    "        return x**2\n",
    "    else:\n",
    "        return y**2"
   ]
  },
  {
   "cell_type": "markdown",
   "metadata": {},
   "source": [
    "Så kalder man funktionen ved at skrive navnet"
   ]
  },
  {
   "cell_type": "code",
   "execution_count": null,
   "metadata": {},
   "outputs": [],
   "source": [
    "square(3, 4)"
   ]
  },
  {
   "cell_type": "code",
   "execution_count": null,
   "metadata": {},
   "outputs": [],
   "source": [
    "square(8, 4)"
   ]
  },
  {
   "cell_type": "markdown",
   "metadata": {},
   "source": [
    "Skriv en funktion som beregner $a\\cdot x+b$ for et givet a, x, og b"
   ]
  },
  {
   "cell_type": "code",
   "execution_count": null,
   "metadata": {},
   "outputs": [],
   "source": []
  },
  {
   "cell_type": "markdown",
   "metadata": {},
   "source": [
    "Skriv en funktion som tjekker om et tal er lige"
   ]
  },
  {
   "cell_type": "code",
   "execution_count": null,
   "metadata": {},
   "outputs": [],
   "source": []
  },
  {
   "cell_type": "markdown",
   "metadata": {},
   "source": [
    "Skriv en/to funktioner som konvatere mellem celsius og fahrenheit"
   ]
  },
  {
   "cell_type": "code",
   "execution_count": null,
   "metadata": {},
   "outputs": [],
   "source": []
  },
  {
   "cell_type": "markdown",
   "metadata": {},
   "source": [
    "Skriv en funktion som tjekker om et tal er et primtal"
   ]
  },
  {
   "cell_type": "code",
   "execution_count": null,
   "metadata": {},
   "outputs": [],
   "source": []
  }
 ],
 "metadata": {
  "kernelspec": {
   "display_name": "Python 3",
   "language": "python",
   "name": "python3"
  },
  "language_info": {
   "codemirror_mode": {
    "name": "ipython",
    "version": 3
   },
   "file_extension": ".py",
   "mimetype": "text/x-python",
   "name": "python",
   "nbconvert_exporter": "python",
   "pygments_lexer": "ipython3",
   "version": "3.11.8"
  }
 },
 "nbformat": 4,
 "nbformat_minor": 2
}
