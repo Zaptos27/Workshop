{
 "cells": [
  {
   "cell_type": "markdown",
   "metadata": {},
   "source": [
    "# Workshop i Python d. 12-12-24\n",
    "### af Mikkel Mødekjær MIM@UNF.dk\n",
    "\n",
    "Martrialet her er lavet i forbindelse med UNF's workshop i python og fysik camp 2024. \n",
    "\n",
    "# Opgaver\n",
    "\n",
    "Her er en masse opgaver som kræver at du kan kombinere konsepter fra introduktionen."
   ]
  },
  {
   "cell_type": "markdown",
   "metadata": {},
   "source": [
    "## Opgave 1\n",
    "Lav et program som printer alle tal mellem 1 og 200, men printer \"Fizz\" hvis et tal gå op i 3 og printer \"Buzz\" hvis det går op i 5. Hvis det går op i begge skal der printes \"FizzBuzz\""
   ]
  },
  {
   "cell_type": "code",
   "execution_count": null,
   "metadata": {},
   "outputs": [],
   "source": []
  },
  {
   "cell_type": "markdown",
   "metadata": {},
   "source": [
    "## Opgave 2\n",
    "Find summen af alle tal, under 1000, hvor 3 eller 5 går op i."
   ]
  },
  {
   "cell_type": "code",
   "execution_count": null,
   "metadata": {},
   "outputs": [],
   "source": []
  },
  {
   "cell_type": "markdown",
   "metadata": {},
   "source": [
    "## Opgave 3\n",
    "Find forskellen mellem at tage alle tal indivduelt i anden og tage summen af dem og tage summen af dem først også sætte det i anden, så f.eks. $1^2+2^2+3^2 - (1+2+3)^2$"
   ]
  },
  {
   "cell_type": "code",
   "execution_count": null,
   "metadata": {},
   "outputs": [],
   "source": []
  },
  {
   "cell_type": "markdown",
   "metadata": {},
   "source": [
    "## Opgave 4\n",
    "Find det største tal du kan lave ved at gange 5 tal i rækkefølge(altså lige efter hinaden) fra listen under. \n",
    "\n",
    "(Koden du kan se er en måde at lave en streng af tal til en liste ved at dele den op per karakter også bruge `int` til at lave den om til interger typen aka. heltal)"
   ]
  },
  {
   "cell_type": "code",
   "execution_count": 1,
   "metadata": {},
   "outputs": [],
   "source": [
    "tal = [int(f) for f in \"7316717653133062491922511967442657474235534919493496983520312774506326239578318016984801869478851843858615607891129494954595017379583319528532088055111254069874715852386305071569329096329522744304355766896648950445244523161731856403098711121722383113622298934233803081353362766142828064444866452387493035890729629049156044077239071381051585930796086670172427121883998797908792274921901699720888093776657273330010533678812202354218097512545405947522435258490771167055601360483958644670632441572215539753697817977846174064955149290862569321978468622482839722413756570560574902614079729686524145351004748216637048440319989000889524345065854122758866688116427171479924442928230863465674813919123162824586178664583591245665294765456828489128831426076900422421902267105562632111110937054421750694165896040807198403850962455444362981230987879927244284909188845801561660979191338754992005240636899125607176060588611646710940507754100225698315520005593572972571636269561882670428252483600823257530420752963450\"]\n",
    "\n",
    "\n"
   ]
  },
  {
   "cell_type": "markdown",
   "metadata": {},
   "source": [
    "## Opgave 5\n",
    "Hvad er summen af ciferne af $2^{1000}$"
   ]
  },
  {
   "cell_type": "code",
   "execution_count": null,
   "metadata": {},
   "outputs": [],
   "source": []
  },
  {
   "cell_type": "markdown",
   "metadata": {},
   "source": [
    "## Opgave 6\n",
    "Skriv et program som regner de første 100 tal i fibonacchi-serien, og tjek hvad summen af dem er."
   ]
  },
  {
   "cell_type": "code",
   "execution_count": null,
   "metadata": {},
   "outputs": [],
   "source": []
  },
  {
   "cell_type": "markdown",
   "metadata": {},
   "source": [
    "## Opgave 7\n",
    "\n",
    "Skriv et program som hvis et tal i listen ikke er sortet rigtig(mindst til størst), så fjerner du det med `liste.pop`"
   ]
  },
  {
   "cell_type": "code",
   "execution_count": 2,
   "metadata": {},
   "outputs": [],
   "source": [
    "liste = [1, 2, 3, 1, 3, 5, 6, 7, 8, 12, 1, 2, 4, 5, 6, 7, 10, 21, 123]\n",
    "\n",
    "\n"
   ]
  },
  {
   "cell_type": "markdown",
   "metadata": {},
   "source": [
    "## Opgave 8\n",
    "Lav et program som finder det mindste tal og sætter det i en ny liste, og gentager indtil den nye er en sorteret liste"
   ]
  },
  {
   "cell_type": "code",
   "execution_count": 3,
   "metadata": {},
   "outputs": [],
   "source": [
    "liste = [12,42421,123,53,5,2334234,546,123,1,2,3,45,6,6,71,3213,221]\n",
    "\n"
   ]
  },
  {
   "cell_type": "markdown",
   "metadata": {},
   "source": [
    "## Opgave 9\n",
    "Skriv et program som tjekker hvor mange vokaler der er i en streng prøv at gøre det med sentence (hint `sentence.count`)"
   ]
  },
  {
   "cell_type": "code",
   "execution_count": null,
   "metadata": {},
   "outputs": [],
   "source": []
  },
  {
   "cell_type": "markdown",
   "metadata": {},
   "source": [
    "## Opgave 10\n",
    "Find den største palindrom du kan lave ved at gange 2, 2 ciferede tal og 2, 3 ciferede tal. Med et palindrom menes der et tal der er det samme om du læser der forfra eller bagfra."
   ]
  },
  {
   "cell_type": "code",
   "execution_count": null,
   "metadata": {},
   "outputs": [],
   "source": []
  },
  {
   "cell_type": "markdown",
   "metadata": {},
   "source": [
    "## Opgave 11\n",
    "Skriv et program som regner alle primtal mellem 2 og 1000. Et primtal er et tal der kun kan deles med sig selv eller 1."
   ]
  },
  {
   "cell_type": "code",
   "execution_count": null,
   "metadata": {},
   "outputs": [],
   "source": []
  },
  {
   "cell_type": "markdown",
   "metadata": {},
   "source": [
    "## Opgave 12\n",
    "Find det mindste tal hvor alle tal mellem 1 og 10 går op i"
   ]
  },
  {
   "cell_type": "code",
   "execution_count": null,
   "metadata": {},
   "outputs": [],
   "source": []
  },
  {
   "cell_type": "markdown",
   "metadata": {},
   "source": [
    "## Opgave 13\n",
    "Skriv en funktion som finder alle unikke elementer i en liste hint `in` kan tjekke om noget er i en liste"
   ]
  },
  {
   "cell_type": "code",
   "execution_count": null,
   "metadata": {},
   "outputs": [],
   "source": []
  },
  {
   "cell_type": "markdown",
   "metadata": {},
   "source": [
    "## Opgave 14\n",
    "Find hvor mange kombinationer du kan lave med 6, 20 sidet terninger"
   ]
  },
  {
   "cell_type": "code",
   "execution_count": null,
   "metadata": {},
   "outputs": [],
   "source": []
  },
  {
   "cell_type": "markdown",
   "metadata": {},
   "source": [
    "## Opgave 15\n",
    "Lav et program som sortere ord i en sætning efter længde, og hvor langt er det længste ord. (hint brug `.split` til at lave en liste som deler ved et tegn)"
   ]
  },
  {
   "cell_type": "code",
   "execution_count": 4,
   "metadata": {},
   "outputs": [],
   "source": [
    "sentence = \"Hej mit navn er Mikkel, og her kommer en meget lang sætning med en helt masse stavefejl fordi jeg er ordblind, men det er lige gyldigt fordi det er en test. Jeg vil gerne finde ud af hvor mange ord der er i denne sætning, og det er derfor jeg skriver denne meget lange sætning. Jeg vil gerne finde ud af hvor mange ord der er i denne sætning, og det er derfor jeg skriver denne meget lange sætning. Jeg vil gerne finde ud af hvor mange ord der er i denne sætning, og det er derfor jeg skriver denne meget lange sætning. Jeg vil gerne finde ud af hvor mange ord der er i denne sætning, og det er derfor jeg skriver denne meget lange sætning. Jeg vil gerne finde ud af hvor mange ord der er i denne sætning, og det er derfor jeg skriver denne meget lange sætning. Jeg vil gerne finde ud af hvor mange ord der er i denne sætning, og det er derfor jeg skriver denne meget lange sætning. Jeg vil gerne finde ud af hvor mange ord der er i denne sætning, og det er derfor jeg skriver denne meget lange sætning. Jeg vil gerne finde ud af hvor mange ord der er i denne sætning, og det er derfor jeg skriver denne meget lange sætning. Jeg vil gerne finde ud af hvor mange ord der er i denne sætning, og det er derfor jeg skriver denne meget lange sætning. Hvis I rent faktisk læser den kan i se det som en ekstra opgave, hvor i også kan prøve at finde alle de komma'er og punktummer der er i denne sætning. Jeg vil gerne finde ud af hvor mange ord der er i denne sætning, og det er derfor jeg skriver denne meget lange sætning. Jeg vil gerne finde ud af hvor mange ord der er i denne sætning, og det er derfor jeg skriver denne meget lange sætning. Nu prøver jeg at få min github copilot til at skrive mere på sætningen, derfor kommer der måske til at være nogle fejl i det jeg ikke skriver meget selv. Jeg vil gerne finde ud af hvor mange ord der er i denne sætning, og det er derfor jeg skriver denne meget lange sætning. Jeg vil gerne finde ud af hvor mange ord der er i denne sætning, og det er derfor jeg skriver denne meget lange sætning. Også kom opgaven igen jeg bruger nu det længste ord på dansk speciallægepraksisplanlægningsstabiliseringsperiode, for at se om der er nogle ord der er længere end det. Jeg prøvet gentage opgaven nok så i finder den og det bedste ord er kamelåså og virkeligt en god ting at bestille i en isenkram. Jeg vil gerne finde ud af hvor mange ord der er i denne sætning, og det er derfor jeg skriver denne meget lange sætning. Jeg vil gerne finde ud af hvor mange ord der er i denne sætning, og det er derfor jeg skriver denne meget lange sætning.\"\n",
    "\n",
    "\n"
   ]
  },
  {
   "cell_type": "markdown",
   "metadata": {},
   "source": [
    "## Opgave 16 (Kan være langsom)\n",
    "Find tallene hvor det gælder at $a<b<c$, $a^2 + b^2 = c^2$ og $a+b+c=1000$"
   ]
  },
  {
   "cell_type": "code",
   "execution_count": null,
   "metadata": {},
   "outputs": [],
   "source": []
  },
  {
   "cell_type": "markdown",
   "metadata": {},
   "source": [
    "## Opgave 17\n",
    "Lav et program som bruger `np.random` til at lave et morderlegs liste med et given seed"
   ]
  },
  {
   "cell_type": "code",
   "execution_count": 5,
   "metadata": {},
   "outputs": [],
   "source": [
    "import numpy.random as random\n",
    "random.seed(42)\n",
    "navne = [\"Luffy\", \"Gol d. Roger\", \"Franky\", \"Brook\", \"Nami\", \"Zoro\", \"Sanji\", \"Usopp\", \"Chopper\", \"Robin\", \"Vivi\", \"Ace\", \"Sabo\", \"Shanks\", \"Kaido\", \"Big Mom\", \"Black Beard\", \"White Beard\", \"Kizaru\", \"Akainu\", \"Aokiji\", \"Smoker\", \"Tashigi\", \"Buggy\", \"Mihawk\", \"Kuma\", \"Law\", \"Kid\", \"Killer\", \"Bonney\", \"Hawkins\", \"Apoo\", \"Drake\", \"Urouge\", \"Caribou\", \"X Drake\"]\n",
    "\n",
    "\n"
   ]
  },
  {
   "cell_type": "markdown",
   "metadata": {},
   "source": [
    "## Opgave 18\n",
    "Lav et program som finder udaf hvornår funktionen $(x^3-2x^2)+2(x^2+x)+5$, er tæt på 0, brug `np.isclose` og det ligger mellem -5 og 5"
   ]
  },
  {
   "cell_type": "code",
   "execution_count": 6,
   "metadata": {},
   "outputs": [],
   "source": [
    "import numpy as np\n",
    "\n",
    "\n"
   ]
  },
  {
   "cell_type": "markdown",
   "metadata": {},
   "source": [
    "## Opgave 19 (Kan være langsom)\n",
    "Find primfaktorene af 6008513123453(De primtal som du skal gange sammen for at få tallet, der skal bruge to tal det ene under 1 million), Brug din liste fra den tidligere opgave, hvor du regner op til 1 million tal"
   ]
  },
  {
   "cell_type": "code",
   "execution_count": null,
   "metadata": {},
   "outputs": [],
   "source": []
  },
  {
   "cell_type": "markdown",
   "metadata": {},
   "source": [
    "## Bonus Opgave 20\n",
    "Implementer den recusivve stalin sort. <br>\n",
    "Stalin sort er en algorithme hvor du \"skyder\" alle elementer som ikke er sortetet rigtig.<br>\n",
    "Her skal i fjerne alle elementer som ikke er sortet rigtigt og tilføje dem til en anden liste, når du har gjort det skal du tjekke om det første elementet er mindre i den nye liste og hvis det er skal den forest og hvis det ikke er skal den bagerst. Også gør du det indtil listen er soteret."
   ]
  },
  {
   "cell_type": "code",
   "execution_count": null,
   "metadata": {},
   "outputs": [],
   "source": []
  }
 ],
 "metadata": {
  "kernelspec": {
   "display_name": "Python 3",
   "language": "python",
   "name": "python3"
  },
  "language_info": {
   "codemirror_mode": {
    "name": "ipython",
    "version": 3
   },
   "file_extension": ".py",
   "mimetype": "text/x-python",
   "name": "python",
   "nbconvert_exporter": "python",
   "pygments_lexer": "ipython3",
   "version": "3.11.8"
  }
 },
 "nbformat": 4,
 "nbformat_minor": 2
}
