{
 "cells": [
  {
   "cell_type": "markdown",
   "metadata": {},
   "source": [
    "# Workshop i Python d. 30-04-24\n",
    "### af Mikkel Mødekjær MIM@UNF.dk\n",
    "\n",
    "Martrialet her er lavet i forbindelse med UNF's workshop i python. \n",
    "\n",
    "Martrialet her er databehandlings delen af det"
   ]
  },
  {
   "cell_type": "markdown",
   "metadata": {},
   "source": [
    "## Biblotekker\n",
    "\n",
    "Så man kan hente ting andre har lavet det kommer vi til at bruge meget i denne del. Man gør det ved `import`"
   ]
  },
  {
   "cell_type": "code",
   "execution_count": 6,
   "metadata": {},
   "outputs": [],
   "source": [
    "import numpy as np\n",
    "import matplotlib.pyplot as plt\n",
    "from scipy import stats\n",
    "np.random.seed(0)"
   ]
  },
  {
   "cell_type": "markdown",
   "metadata": {},
   "source": [
    "Så når vi skriver as betyder det at man kan skrive det efterfølgende istedet for hele navnet"
   ]
  },
  {
   "cell_type": "markdown",
   "metadata": {},
   "source": [
    "## Data / opgaver\n",
    "Her har jeg brugt numpys random til at generare noget \"data\""
   ]
  },
  {
   "cell_type": "code",
   "execution_count": 11,
   "metadata": {},
   "outputs": [],
   "source": [
    "x = 2 * np.random.rand(100, 1)\n",
    "yerr = 2\n",
    "y = 4 + 3 * x + np.random.normal(0, yerr, size = x.shape)"
   ]
  },
  {
   "cell_type": "markdown",
   "metadata": {},
   "source": [
    "Nu har du data så handler det om at finde udaf noget om det\n",
    "\n",
    "Det første man burde er jo at plotte det, det kan man bruge matplotlib til som er importet som plt. Prøv at køre plot funktionen fra matplotlib på dataen."
   ]
  },
  {
   "cell_type": "code",
   "execution_count": null,
   "metadata": {},
   "outputs": [],
   "source": []
  },
  {
   "cell_type": "markdown",
   "metadata": {},
   "source": [
    "Med matplotlib kan du næsten få dit plot til at være det du vil have. Det næste jeg ville gøre er at fitte en graf til funktionen.\n",
    "\n",
    "Så der er flere måder at fitte på i python, for at forstå det mener jeg man skal skrive sin egen en enkelt gang.\n",
    "\n",
    "Så du skal regne $\\chi^2$ af funktionen du prøver, det betyder at du skal regne specifikt $\\chi^2=\\sum_{\\forall i}\\frac{(y_i-f(x_i))^2}{\\sigma_i^2}$, mens hvis du ikke vil bruge usikkerhedder $\\chi^2=\\sum_{\\forall i}\\frac{(y_i-f(x_i))^2}{f(x_i)}$.\n",
    "\n",
    "Så du skal skrive det her så du kan tage navnet på en funktion, data og alle parameter som funktionen skal bruge, ind. Du skal huske hvis du navnet af en funktion som under virker det."
   ]
  },
  {
   "cell_type": "code",
   "execution_count": 18,
   "metadata": {},
   "outputs": [],
   "source": [
    "def func(f, x, *args):\n",
    "    return f(x, *args)"
   ]
  },
  {
   "cell_type": "markdown",
   "metadata": {},
   "source": [
    "Stejernen siger bare at der er et antal, men vi ikke ved det"
   ]
  },
  {
   "cell_type": "code",
   "execution_count": null,
   "metadata": {},
   "outputs": [],
   "source": []
  },
  {
   "cell_type": "markdown",
   "metadata": {},
   "source": [
    "Nu skal vi skrive nogle funktioner til at teste, jeg anbefaler at tjekke ihvertfald $a\\cdot x+b$, $a\\cdot x^2 + b\\cdot x +c$, $a \\cdot x^3 + b\\cdot x + c$, og tre andre i tænker på."
   ]
  },
  {
   "cell_type": "code",
   "execution_count": null,
   "metadata": {},
   "outputs": [],
   "source": []
  },
  {
   "cell_type": "markdown",
   "metadata": {},
   "source": [
    "Så nu skal du lave en \"algorithme\" som minimere, Hvor du giver et sted at starte og hvor langt den må gå også ellers gøre det selv. Jeg anbefaler enten at gøre det ved hjælp af `np.random.uniform` som kan give dig tilfældige tal i et område, eller systematisk."
   ]
  },
  {
   "cell_type": "code",
   "execution_count": null,
   "metadata": {},
   "outputs": [],
   "source": []
  },
  {
   "cell_type": "markdown",
   "metadata": {},
   "source": [
    "Så hvordan viser man det så\n",
    "\n",
    "Så `plt.plot` kan vise det og hvis vi skriver det flere gange viser den tingene oven i hinanden, hvor `plt.show()` lukker \"rækken\"."
   ]
  },
  {
   "cell_type": "code",
   "execution_count": null,
   "metadata": {},
   "outputs": [],
   "source": []
  },
  {
   "cell_type": "markdown",
   "metadata": {},
   "source": [
    "Men `plt` kan meget mere, f.eks. hvis vi skriver `plt.errorbar(x,y,yerr=1)`, så ville den printe med en error på 1. eller hvis vi bruger keywordet legend, så f.eks `plt.plot(x,y,legend=\"data\")` så hvis vi skriver `plt.legend()` kommer der en legend på plottet. Så prøv at leje lidt med det googl eller jeg kan hjælpe hvis du vil noget specifikt."
   ]
  },
  {
   "cell_type": "code",
   "execution_count": null,
   "metadata": {},
   "outputs": [],
   "source": []
  },
  {
   "cell_type": "markdown",
   "metadata": {},
   "source": [
    "Så nu har du prøvet det selv så den måde de fleste gør det er med `scipy`'s optimize pakke. Så i den er der funktionen `curve_fit` som kan alt det du lige har skrevet, eller man kan bruge pakken `iminuit`, som jeg ville gøre hvor du skal gøre nogle ting selv som at skrive $\\chi^2$, men det er også svære at arbejde med, men kan mere."
   ]
  },
  {
   "cell_type": "markdown",
   "metadata": {},
   "source": [
    "Så det er jo engang imellem fedt at kunne tage data ind fra en fil, det kan man bruge `numpy`'s genfromtxt, eller loadtxt, jeg har brugt begge og der er minimal forskel, de vigtige options her er delimiter og header og footer, hvor delimeter skal være tegnet som er i mellem så her betyder den ikke noget, og header er hvor mange linjer skal den ignorere i toppen of footer for bunden. Så prøv at impotere WhiteSharkLenght.txt og plot det som histogram med `plt.hist` hvor du kan styre hvor mange den skal vise men bins optionen."
   ]
  },
  {
   "cell_type": "code",
   "execution_count": null,
   "metadata": {},
   "outputs": [],
   "source": []
  },
  {
   "cell_type": "markdown",
   "metadata": {},
   "source": [
    "Nu skal vi prøve det hele sammen, ved at tage data set fra FranksNumbers.txt, så kan du kigge på dem og prøve at fitte funktioner som du synes giver mening. Hvis du vil vudere om den passer overhovdet er kan du se om $\\chi^2/\\textup{frihedsgrader}$ og om det er tæt på 1 eller bedre køre `stats.chi2.sf(Chi2, frihedsgrader)`. Du kan se frihedsgrader som antalet af punkter minus antalet af parameter."
   ]
  },
  {
   "cell_type": "code",
   "execution_count": null,
   "metadata": {},
   "outputs": [],
   "source": []
  }
 ],
 "metadata": {
  "kernelspec": {
   "display_name": "Python 3",
   "language": "python",
   "name": "python3"
  },
  "language_info": {
   "codemirror_mode": {
    "name": "ipython",
    "version": 3
   },
   "file_extension": ".py",
   "mimetype": "text/x-python",
   "name": "python",
   "nbconvert_exporter": "python",
   "pygments_lexer": "ipython3",
   "version": "3.11.8"
  }
 },
 "nbformat": 4,
 "nbformat_minor": 2
}
