{
 "cells": [
  {
   "cell_type": "markdown",
   "metadata": {},
   "source": [
    "# Workshop i Python d. 30-04-24\n",
    "### af Mikkel Mødekjær MIM@UNF.dk\n",
    "\n",
    "Martrialet her er lavet i forbindelse med UNF's workshop i python. \n",
    "\n",
    "Versionen her er for folk der ikke har programmeret før eller føgler at de vil gå igennem de basale ting"
   ]
  },
  {
   "cell_type": "markdown",
   "metadata": {},
   "source": [
    "## Syntaks\n",
    "\n",
    "I programmering skal alt stå på en specifik måde. Forskellige ting betyder Forskelligt.\n",
    "\n",
    "Hvis vi skriver et ord som f.eks. `x` eller `hej_med_dig`, hvor der ikke er mellemrum kan  vi bruge det som variable som i kan se her"
   ]
  },
  {
   "cell_type": "code",
   "execution_count": 2,
   "metadata": {},
   "outputs": [],
   "source": [
    "x = 50"
   ]
  },
  {
   "cell_type": "markdown",
   "metadata": {},
   "source": [
    "Det vil gøre at `x` er en variable, og vi har brugt = til at sætte `x` til 50, så hvis der står `x` vil den se det som 50."
   ]
  },
  {
   "cell_type": "markdown",
   "metadata": {},
   "source": [
    "## Skrive ting\n",
    "\n",
    "I Python er der flere måder at skrive ting ud. Den mest brugte er \n",
    "`print()` hvor ting som ikke er variabler skal stå mellem `\"\"` de to måder kan du se det her. "
   ]
  },
  {
   "cell_type": "code",
   "execution_count": 7,
   "metadata": {},
   "outputs": [
    {
     "name": "stdout",
     "output_type": "stream",
     "text": [
      "50\n",
      "Hello World\n"
     ]
    }
   ],
   "source": [
    "print(x)\n",
    "\n",
    "print(\"Hello World\")"
   ]
  },
  {
   "cell_type": "markdown",
   "metadata": {},
   "source": [
    "I ipython som det her er kan du bruge at den skrive ud hvad der står på sidste linje bliver skrevet ud. som Her"
   ]
  },
  {
   "cell_type": "code",
   "execution_count": 4,
   "metadata": {},
   "outputs": [
    {
     "data": {
      "text/plain": [
       "50"
      ]
     },
     "execution_count": 4,
     "metadata": {},
     "output_type": "execute_result"
    }
   ],
   "source": [
    "x"
   ]
  },
  {
   "cell_type": "markdown",
   "metadata": {},
   "source": [
    "Prøv at printe dit navn på begge måder"
   ]
  },
  {
   "cell_type": "code",
   "execution_count": null,
   "metadata": {},
   "outputs": [],
   "source": []
  },
  {
   "cell_type": "markdown",
   "metadata": {},
   "source": [
    "## Matematik\n",
    "\n",
    "Så en af de vigtiste ting er at du kan lave matematik med programmering.\n",
    "\n",
    "For at lave normale operationer `+` `-` `*` og `/`.\n",
    "\n",
    "Så f.eks hvis jeg ville skrive $\\frac{2\\cdot5}{26-4}$, ville det være"
   ]
  },
  {
   "cell_type": "code",
   "execution_count": 5,
   "metadata": {},
   "outputs": [
    {
     "data": {
      "text/plain": [
       "0.45454545454545453"
      ]
     },
     "execution_count": 5,
     "metadata": {},
     "output_type": "execute_result"
    }
   ],
   "source": [
    "2*5/(26-4)"
   ]
  },
  {
   "cell_type": "markdown",
   "metadata": {},
   "source": [
    "Ud over de normale kan du bruge `**` til at opløft så `x**2` ville være $x^2$.\n",
    "\n",
    "Også er der en special som er modulo, som er resten så f.eks $\\frac{5}{2} = 2.5 $ mens `5%2=1` fordi resten i heltals division er 1."
   ]
  },
  {
   "cell_type": "markdown",
   "metadata": {},
   "source": [
    "Brug python til at regne $\\frac{27^2\\cdot25+8}{50^{1/2}\\cdot2^{3/2}}$"
   ]
  },
  {
   "cell_type": "code",
   "execution_count": null,
   "metadata": {},
   "outputs": [],
   "source": []
  },
  {
   "cell_type": "markdown",
   "metadata": {},
   "source": [
    "## Hvis\n",
    "\n",
    "Så en anden meget vigtig ting i programmering er hvis eller `if`-statments. Så det er hvordan man for computeren til at tage \"beslutininger\".\n",
    "\n",
    "Så i python bruger du `==`, `>`, `<`, `>=`, `<=` og `!=` til at sammenlige. `==` er om ting er ens, `>`, `<` skrapt større og mindre end, `>=`, `<=` blødt større eller mindre end, og `!=` er ikke lig med.\n",
    "\n",
    "Så den måde du skriver det på er `if` også hvad den skal tage beslutningen på. Du SKAL være opmærk som på at ALT de er indrykket med 4 spaces i linjerne under et `:` er forbundet med det, som `if` eller `for` senere. Her hvor vi gør det hvis `x` er 50."
   ]
  },
  {
   "cell_type": "code",
   "execution_count": 6,
   "metadata": {},
   "outputs": [
    {
     "name": "stdout",
     "output_type": "stream",
     "text": [
      "x er 50\n"
     ]
    }
   ],
   "source": [
    "if x == 50:\n",
    "    print(\"x er 50\")"
   ]
  },
  {
   "cell_type": "markdown",
   "metadata": {},
   "source": [
    "Mens hvis du skal se om noget er sandt, skal du bruge `true` and `false`. Så hvis vi ser om `x` er større end 50. "
   ]
  },
  {
   "cell_type": "code",
   "execution_count": 8,
   "metadata": {},
   "outputs": [
    {
     "name": "stdout",
     "output_type": "stream",
     "text": [
      "x er 50\n"
     ]
    }
   ],
   "source": [
    "if x > 50:\n",
    "    print(\"x er større end 50\")\n",
    "elif x < 50:\n",
    "    print(\"x er mindre end 50\")\n",
    "else:\n",
    "    print(\"x er 50\")"
   ]
  },
  {
   "cell_type": "markdown",
   "metadata": {},
   "source": [
    "Så koden her ser er `x>50` sandt, hvis det ikke er så tjekker vi `x<50` og hvis det heller ikke er skriver vi at `x` er 50."
   ]
  },
  {
   "cell_type": "markdown",
   "metadata": {},
   "source": [
    "Prøv at lave en variable som hedder regner og hvis regner er sandt print \"tag regnjakke på\", hvis falsk \"Det er godt vejr\"."
   ]
  },
  {
   "cell_type": "code",
   "execution_count": null,
   "metadata": {},
   "outputs": [],
   "source": []
  },
  {
   "cell_type": "markdown",
   "metadata": {},
   "source": [
    "## Løkker\n",
    "\n",
    "For at skulle skrive mindre kode har nogle lavet løkker, som kan køre det samme stykke kode mange gang.\n",
    "\n",
    "Jeg anbefaler at bruge `for` løkker, som køre for hvert element i noget.\n",
    "\n",
    "Så den måde du ofte ville køre det er med `range` funktionen eller en liste.\n",
    "\n",
    "Lister er en variable type hvor du kan give flere ting, som hvis vi gerne vil have en liste med tal"
   ]
  },
  {
   "cell_type": "code",
   "execution_count": 9,
   "metadata": {},
   "outputs": [],
   "source": [
    "arr = [1,1,2,3,5,8]"
   ]
  },
  {
   "cell_type": "markdown",
   "metadata": {},
   "source": [
    "Så nu er `arr` de første par fibbonacci tal. Så hvis gerne vil skrive den ud kunne vi bruge en liste til det"
   ]
  },
  {
   "cell_type": "code",
   "execution_count": 10,
   "metadata": {},
   "outputs": [
    {
     "name": "stdout",
     "output_type": "stream",
     "text": [
      "1\n",
      "1\n",
      "2\n",
      "3\n",
      "5\n",
      "8\n"
     ]
    }
   ],
   "source": [
    "for f in arr:\n",
    "    print(f)"
   ]
  },
  {
   "cell_type": "markdown",
   "metadata": {},
   "source": [
    "Mens hvis vi ville beregne dem kan vi bruge `range` som generere næste tal optil en under det du skriver fra 0"
   ]
  },
  {
   "cell_type": "code",
   "execution_count": 11,
   "metadata": {},
   "outputs": [
    {
     "name": "stdout",
     "output_type": "stream",
     "text": [
      "0\n",
      "1\n",
      "2\n",
      "3\n",
      "4\n",
      "5\n",
      "6\n",
      "7\n",
      "8\n",
      "9\n"
     ]
    }
   ],
   "source": [
    "for i in range(10):\n",
    "    print(i)"
   ]
  },
  {
   "cell_type": "markdown",
   "metadata": {},
   "source": [
    "Så for fibbonacchi rækken, hvor du kan se at hvis vi bruger flere rykker vi det 4 spaces ind mere."
   ]
  },
  {
   "cell_type": "code",
   "execution_count": 13,
   "metadata": {},
   "outputs": [
    {
     "name": "stdout",
     "output_type": "stream",
     "text": [
      "1\n",
      "1\n",
      "2\n",
      "3\n",
      "5\n",
      "8\n",
      "13\n",
      "21\n",
      "34\n",
      "55\n"
     ]
    }
   ],
   "source": [
    "arr = []\n",
    "for i in range(10):\n",
    "    if i == 0 or i == 1:\n",
    "        arr.append(1)\n",
    "    else:\n",
    "        arr.append(arr[i-1] + arr[i-2])\n",
    "    print(arr[i])"
   ]
  },
  {
   "cell_type": "markdown",
   "metadata": {},
   "source": [
    "Her bruger vi at en liste kan du få den `n` plads ud ved `listens_navn[n]`, så hvis `n` er 2 vil du få den trejde plads da den første plads er plads 0. også bruger vi append til at ligge det i slutningen af listen"
   ]
  },
  {
   "cell_type": "markdown",
   "metadata": {},
   "source": [
    "Brug en løkke til at beregne summen for alle tal mellem 1 og 10.000."
   ]
  },
  {
   "cell_type": "code",
   "execution_count": null,
   "metadata": {},
   "outputs": [],
   "source": []
  },
  {
   "cell_type": "markdown",
   "metadata": {},
   "source": [
    "## Funktioner\n",
    "\n",
    "\n",
    "Funktioner er en let måde at lave kode som kan køres flere gange så f.eks. hvis vi gerne vil bruge den strørre af $x^2$ og $y^2$ kan man skrive det med funktioner som her"
   ]
  },
  {
   "cell_type": "code",
   "execution_count": 14,
   "metadata": {},
   "outputs": [],
   "source": [
    "def square(x, y):\n",
    "    if x**2 > y**2:\n",
    "        return x**2\n",
    "    else:\n",
    "        return y**2"
   ]
  },
  {
   "cell_type": "markdown",
   "metadata": {},
   "source": [
    "Så kalder man funktionen ved at skrive navnet"
   ]
  },
  {
   "cell_type": "code",
   "execution_count": 15,
   "metadata": {},
   "outputs": [
    {
     "data": {
      "text/plain": [
       "16"
      ]
     },
     "execution_count": 15,
     "metadata": {},
     "output_type": "execute_result"
    }
   ],
   "source": [
    "square(3, 4)"
   ]
  },
  {
   "cell_type": "code",
   "execution_count": 17,
   "metadata": {},
   "outputs": [
    {
     "data": {
      "text/plain": [
       "64"
      ]
     },
     "execution_count": 17,
     "metadata": {},
     "output_type": "execute_result"
    }
   ],
   "source": [
    "square(8, 4)"
   ]
  },
  {
   "cell_type": "markdown",
   "metadata": {},
   "source": [
    "Skriv en funktion som beregner $a\\cdot x+b$ for et givet a, x, og b"
   ]
  },
  {
   "cell_type": "code",
   "execution_count": null,
   "metadata": {},
   "outputs": [],
   "source": []
  },
  {
   "cell_type": "markdown",
   "metadata": {},
   "source": [
    "## Opgaver"
   ]
  },
  {
   "cell_type": "markdown",
   "metadata": {},
   "source": [
    "### Opgave 1\n",
    "Skriv alle tal som er lige mellem 0 og 100."
   ]
  },
  {
   "cell_type": "code",
   "execution_count": null,
   "metadata": {},
   "outputs": [],
   "source": []
  },
  {
   "cell_type": "markdown",
   "metadata": {},
   "source": [
    "### Opgave 2\n",
    "\n",
    "Skriv alle kvardart tal og tal i trejde som er lige fra 0 til 100."
   ]
  },
  {
   "cell_type": "code",
   "execution_count": null,
   "metadata": {},
   "outputs": [],
   "source": []
  },
  {
   "cell_type": "markdown",
   "metadata": {},
   "source": [
    "### Opgave 3\n",
    "\n",
    "Skriv alle tal mellem 0 og 100, men hvis det går op i 3 skriv fizz og hvis det går op i 5 buzz istedet.(hvis det går op i begge skriv fizzbuzz)"
   ]
  },
  {
   "cell_type": "code",
   "execution_count": null,
   "metadata": {},
   "outputs": [],
   "source": []
  },
  {
   "cell_type": "markdown",
   "metadata": {},
   "source": [
    "### Opgave 4\n",
    "\n",
    "Skriv en funktion som regner det N'th fibbonacchi tal"
   ]
  },
  {
   "cell_type": "code",
   "execution_count": null,
   "metadata": {},
   "outputs": [],
   "source": []
  },
  {
   "cell_type": "markdown",
   "metadata": {},
   "source": [
    "### Opgave 5\n",
    "\n",
    "Skriv en funktion som regner afstanden mellem tal."
   ]
  },
  {
   "cell_type": "code",
   "execution_count": null,
   "metadata": {},
   "outputs": [],
   "source": []
  }
 ],
 "metadata": {
  "kernelspec": {
   "display_name": ".venv",
   "language": "python",
   "name": "python3"
  },
  "language_info": {
   "codemirror_mode": {
    "name": "ipython",
    "version": 3
   },
   "file_extension": ".py",
   "mimetype": "text/x-python",
   "name": "python",
   "nbconvert_exporter": "python",
   "pygments_lexer": "ipython3",
   "version": "3.11.8"
  }
 },
 "nbformat": 4,
 "nbformat_minor": 2
}
